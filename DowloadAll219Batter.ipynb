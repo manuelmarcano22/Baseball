{
 "cells": [
  {
   "cell_type": "code",
   "execution_count": 1,
   "metadata": {},
   "outputs": [],
   "source": [
    "import pandas as pd\n",
    "from urllib.error import HTTPError"
   ]
  },
  {
   "cell_type": "code",
   "execution_count": 13,
   "metadata": {},
   "outputs": [],
   "source": [
    "season='2019'\n",
    "team='BOS'\n",
    "\n",
    "\n",
    "teams = ['LAA', 'HOU', 'OAK', 'TOR', 'ATL', 'MIL', 'STL',\n",
    "         'CHC', 'ARI', 'LAD', 'SF', 'CLE', 'SEA', 'MIA',\n",
    "         'NYM', 'WSH', 'BAL', 'SD', 'PHI', 'PIT', 'TEX',\n",
    "         'TB', 'BOS', 'CIN', 'COL', 'KC', 'DET', 'MIN',\n",
    "         'CWS', 'NYY']\n",
    "\n",
    "\n",
    "\n",
    "# Define the number of times to retry on a connection error\n",
    "num_tries = 6\n",
    "# Define the starting backoff time to grow exponentially\n",
    "pause_time = 30\n",
    "\n",
    "home_road=''\n",
    "playertype = 'batter'\n"
   ]
  },
  {
   "cell_type": "code",
   "execution_count": 14,
   "metadata": {},
   "outputs": [],
   "source": [
    "# Attempt to download the file\n",
    "# If unsuccessful retry with exponential backoff\n",
    "# If still unsuccessful raise HTTPError\n",
    "# Due to possible limit on access to this data\n",
    "\n",
    "for team in teams:\n",
    "    \n",
    "    \n",
    "    url_batter_all= (\"https://baseballsavant.mlb.com/statcast_search/csv?all=true\"\n",
    "           \"&hfPT=&hfAB=&hfBBT=&hfPR=&hfZ=&stadium=&hfBBL=&hfNewZones=&hfGT=&h\"\n",
    "           f\"fC=&hfSea={season}%7C&hfSit=&player_type={playertype}&hfOuts=&opponent\"\n",
    "           \"=&pitcher_throws=&batter_stands=&hfSA=&game_date_gt=&game_date_lt=\"\n",
    "           f\"&hfInfield=&team={team}&position=&hfOutfield=&hfRO=\"\n",
    "           f\"&home_road=&hfFlag=&hfPull=&metric_1=&hfInn=\"\n",
    "           \"&min_pitches=0&min_results=0&group_by=name&sort_col=pitches\"\n",
    "           \"&player_event_sort=pitch_number_thisgame&sort_order=desc\"\n",
    "                     \"&min_pas=0&type=details&\")\n",
    "\n",
    "    for retry in range(0, num_tries):\n",
    "        try:\n",
    "            single_combination = pd.read_csv(url_batter_all, low_memory=False)\n",
    "        except HTTPError as connect_error:\n",
    "\n",
    "            if connect_error:\n",
    "                if retry == num_tries - 1:\n",
    "                    raise HTTPError\n",
    "                else:\n",
    "                    sleep(pause_time)\n",
    "                    pause_time *= 2\n",
    "                    continue\n",
    "            else:\n",
    "                break\n",
    "\n",
    "\n",
    "    # Drop duplicate and deprecated fields\n",
    "    single_combination.drop(['pitcher.1', 'fielder_2.1', 'umpire', 'spin_dir',\n",
    "                             'spin_rate_deprecated', 'break_angle_deprecated',\n",
    "                             'break_length_deprecated', 'tfs_deprecated',\n",
    "                             'tfs_zulu_deprecated'], axis=1, inplace=True)\n",
    "\n",
    "\n",
    "    single_combination.to_csv(f\"{team}_{season}_Batters_detail.csv\",\n",
    "                              index=False, sep=',')\n"
   ]
  },
  {
   "cell_type": "markdown",
   "metadata": {},
   "source": [
    "# 2018"
   ]
  },
  {
   "cell_type": "code",
   "execution_count": 3,
   "metadata": {},
   "outputs": [],
   "source": [
    "season='2018'\n",
    "\n",
    "\n",
    "teams = ['LAA', 'HOU', 'OAK', 'TOR', 'ATL', 'MIL', 'STL',\n",
    "         'CHC', 'ARI', 'LAD', 'SF', 'CLE', 'SEA', 'MIA',\n",
    "         'NYM', 'WSH', 'BAL', 'SD', 'PHI', 'PIT', 'TEX',\n",
    "         'TB', 'BOS', 'CIN', 'COL', 'KC', 'DET', 'MIN',\n",
    "         'CWS', 'NYY']\n",
    "\n",
    "\n",
    "\n",
    "# Define the number of times to retry on a connection error\n",
    "num_tries = 6\n",
    "# Define the starting backoff time to grow exponentially\n",
    "pause_time = 30\n",
    "\n",
    "home_road=''\n",
    "playertype = 'batter'\n",
    "\n",
    "\n",
    "# Attempt to download the file\n",
    "# If unsuccessful retry with exponential backoff\n",
    "# If still unsuccessful raise HTTPError\n",
    "# Due to possible limit on access to this data\n",
    "\n",
    "for team in teams:\n",
    "    \n",
    "    \n",
    "    url_batter_all= (\"https://baseballsavant.mlb.com/statcast_search/csv?all=true\"\n",
    "           \"&hfPT=&hfAB=&hfBBT=&hfPR=&hfZ=&stadium=&hfBBL=&hfNewZones=&hfGT=&h\"\n",
    "           f\"fC=&hfSea={season}%7C&hfSit=&player_type={playertype}&hfOuts=&opponent\"\n",
    "           \"=&pitcher_throws=&batter_stands=&hfSA=&game_date_gt=&game_date_lt=\"\n",
    "           f\"&hfInfield=&team={team}&position=&hfOutfield=&hfRO=\"\n",
    "           f\"&home_road=&hfFlag=&hfPull=&metric_1=&hfInn=\"\n",
    "           \"&min_pitches=0&min_results=0&group_by=name&sort_col=pitches\"\n",
    "           \"&player_event_sort=pitch_number_thisgame&sort_order=desc\"\n",
    "                     \"&min_pas=0&type=details&\")\n",
    "\n",
    "    for retry in range(0, num_tries):\n",
    "        try:\n",
    "            single_combination = pd.read_csv(url_batter_all, low_memory=False)\n",
    "        except HTTPError as connect_error:\n",
    "\n",
    "            if connect_error:\n",
    "                if retry == num_tries - 1:\n",
    "                    raise HTTPError\n",
    "                else:\n",
    "                    sleep(pause_time)\n",
    "                    pause_time *= 2\n",
    "                    continue\n",
    "            else:\n",
    "                break\n",
    "\n",
    "\n",
    "    # Drop duplicate and deprecated fields\n",
    "    single_combination.drop(['pitcher.1', 'fielder_2.1', 'umpire', 'spin_dir',\n",
    "                             'spin_rate_deprecated', 'break_angle_deprecated',\n",
    "                             'break_length_deprecated', 'tfs_deprecated',\n",
    "                             'tfs_zulu_deprecated'], axis=1, inplace=True)\n",
    "\n",
    "\n",
    "    single_combination.to_csv(f\"2018BatterData/{team}_{season}_Batters_detail.csv\",\n",
    "                              index=False, sep=',')\n"
   ]
  },
  {
   "cell_type": "code",
   "execution_count": 4,
   "metadata": {},
   "outputs": [
    {
     "data": {
      "text/plain": [
       "30"
      ]
     },
     "execution_count": 4,
     "metadata": {},
     "output_type": "execute_result"
    }
   ],
   "source": [
    "len(teams)"
   ]
  },
  {
   "cell_type": "code",
   "execution_count": null,
   "metadata": {},
   "outputs": [],
   "source": []
  }
 ],
 "metadata": {
  "kernelspec": {
   "display_name": "Python 3",
   "language": "python",
   "name": "python3"
  },
  "language_info": {
   "codemirror_mode": {
    "name": "ipython",
    "version": 3
   },
   "file_extension": ".py",
   "mimetype": "text/x-python",
   "name": "python",
   "nbconvert_exporter": "python",
   "pygments_lexer": "ipython3",
   "version": "3.7.4"
  }
 },
 "nbformat": 4,
 "nbformat_minor": 2
}
